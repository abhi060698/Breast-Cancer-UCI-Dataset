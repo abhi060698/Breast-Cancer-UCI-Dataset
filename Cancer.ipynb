{
 "cells": [
  {
   "cell_type": "code",
   "execution_count": 1,
   "metadata": {},
   "outputs": [
    {
     "name": "stderr",
     "output_type": "stream",
     "text": [
      "C:\\Users\\abhis\\Anaconda3\\envs\\tensorflow\\lib\\site-packages\\h5py\\__init__.py:36: FutureWarning: Conversion of the second argument of issubdtype from `float` to `np.floating` is deprecated. In future, it will be treated as `np.float64 == np.dtype(float).type`.\n",
      "  from ._conv import register_converters as _register_converters\n",
      "Using TensorFlow backend.\n"
     ]
    }
   ],
   "source": [
    "import keras"
   ]
  },
  {
   "cell_type": "code",
   "execution_count": 2,
   "metadata": {},
   "outputs": [],
   "source": [
    "import pandas as pd"
   ]
  },
  {
   "cell_type": "code",
   "execution_count": 4,
   "metadata": {},
   "outputs": [],
   "source": [
    "import numpy as np"
   ]
  },
  {
   "cell_type": "code",
   "execution_count": 5,
   "metadata": {},
   "outputs": [],
   "source": [
    "import sklearn as sk"
   ]
  },
  {
   "cell_type": "code",
   "execution_count": 6,
   "metadata": {},
   "outputs": [],
   "source": [
    "import seaborn as sns"
   ]
  },
  {
   "cell_type": "code",
   "execution_count": 8,
   "metadata": {},
   "outputs": [],
   "source": [
    "import matplotlib.pyplot as plt"
   ]
  },
  {
   "cell_type": "code",
   "execution_count": 9,
   "metadata": {},
   "outputs": [
    {
     "name": "stdout",
     "output_type": "stream",
     "text": [
      "C:\\Users\\abhis\\Desktop\n"
     ]
    }
   ],
   "source": [
    "cd C:\\\\Users\\\\abhis\\\\Desktop"
   ]
  },
  {
   "cell_type": "code",
   "execution_count": 10,
   "metadata": {},
   "outputs": [],
   "source": [
    "data = pd.read_csv('data.csv')"
   ]
  },
  {
   "cell_type": "code",
   "execution_count": 11,
   "metadata": {},
   "outputs": [
    {
     "name": "stdout",
     "output_type": "stream",
     "text": [
      "<class 'pandas.core.frame.DataFrame'>\n",
      "RangeIndex: 569 entries, 0 to 568\n",
      "Data columns (total 32 columns):\n",
      "id                         569 non-null int64\n",
      "diagnosis                  569 non-null object\n",
      "radius_mean                569 non-null float64\n",
      "texture_mean               569 non-null float64\n",
      "perimeter_mean             569 non-null float64\n",
      "area_mean                  569 non-null float64\n",
      "smoothness_mean            569 non-null float64\n",
      "compactness_mean           569 non-null float64\n",
      "concavity_mean             569 non-null float64\n",
      "concave points_mean        569 non-null float64\n",
      "symmetry_mean              569 non-null float64\n",
      "fractal_dimension_mean     569 non-null float64\n",
      "radius_se                  569 non-null float64\n",
      "texture_se                 569 non-null float64\n",
      "perimeter_se               569 non-null float64\n",
      "area_se                    569 non-null float64\n",
      "smoothness_se              569 non-null float64\n",
      "compactness_se             569 non-null float64\n",
      "concavity_se               569 non-null float64\n",
      "concave points_se          569 non-null float64\n",
      "symmetry_se                569 non-null float64\n",
      "fractal_dimension_se       569 non-null float64\n",
      "radius_worst               569 non-null float64\n",
      "texture_worst              569 non-null float64\n",
      "perimeter_worst            569 non-null float64\n",
      "area_worst                 569 non-null float64\n",
      "smoothness_worst           569 non-null float64\n",
      "compactness_worst          569 non-null float64\n",
      "concavity_worst            569 non-null float64\n",
      "concave points_worst       569 non-null float64\n",
      "symmetry_worst             569 non-null float64\n",
      "fractal_dimension_worst    569 non-null float64\n",
      "dtypes: float64(30), int64(1), object(1)\n",
      "memory usage: 142.3+ KB\n"
     ]
    }
   ],
   "source": [
    "data.info()"
   ]
  },
  {
   "cell_type": "code",
   "execution_count": 19,
   "metadata": {},
   "outputs": [],
   "source": [
    "data_train = data"
   ]
  },
  {
   "cell_type": "code",
   "execution_count": 21,
   "metadata": {},
   "outputs": [],
   "source": [
    "data_train = data_train.drop(['id','diagnosis'],axis = 1)"
   ]
  },
  {
   "cell_type": "code",
   "execution_count": 22,
   "metadata": {},
   "outputs": [
    {
     "name": "stdout",
     "output_type": "stream",
     "text": [
      "<class 'pandas.core.frame.DataFrame'>\n",
      "RangeIndex: 569 entries, 0 to 568\n",
      "Data columns (total 31 columns):\n",
      "radius_mean                569 non-null float64\n",
      "texture_mean               569 non-null float64\n",
      "perimeter_mean             569 non-null float64\n",
      "area_mean                  569 non-null float64\n",
      "smoothness_mean            569 non-null float64\n",
      "compactness_mean           569 non-null float64\n",
      "concavity_mean             569 non-null float64\n",
      "concave points_mean        569 non-null float64\n",
      "symmetry_mean              569 non-null float64\n",
      "fractal_dimension_mean     569 non-null float64\n",
      "radius_se                  569 non-null float64\n",
      "texture_se                 569 non-null float64\n",
      "perimeter_se               569 non-null float64\n",
      "area_se                    569 non-null float64\n",
      "smoothness_se              569 non-null float64\n",
      "compactness_se             569 non-null float64\n",
      "concavity_se               569 non-null float64\n",
      "concave points_se          569 non-null float64\n",
      "symmetry_se                569 non-null float64\n",
      "fractal_dimension_se       569 non-null float64\n",
      "radius_worst               569 non-null float64\n",
      "texture_worst              569 non-null float64\n",
      "perimeter_worst            569 non-null float64\n",
      "area_worst                 569 non-null float64\n",
      "smoothness_worst           569 non-null float64\n",
      "compactness_worst          569 non-null float64\n",
      "concavity_worst            569 non-null float64\n",
      "concave points_worst       569 non-null float64\n",
      "symmetry_worst             569 non-null float64\n",
      "fractal_dimension_worst    569 non-null float64\n",
      "diag_cat                   569 non-null int64\n",
      "dtypes: float64(30), int64(1)\n",
      "memory usage: 137.9 KB\n"
     ]
    }
   ],
   "source": [
    "data_train.info()"
   ]
  },
  {
   "cell_type": "code",
   "execution_count": 15,
   "metadata": {},
   "outputs": [],
   "source": [
    "def diag_cat(diagnosis):\n",
    "    if(diagnosis == 'M'):\n",
    "        return 1\n",
    "    if(diagnosis == 'B'):\n",
    "        return 0"
   ]
  },
  {
   "cell_type": "code",
   "execution_count": 16,
   "metadata": {},
   "outputs": [],
   "source": [
    "data['diag_cat']=data['diagnosis'].apply(diag_cat)"
   ]
  },
  {
   "cell_type": "code",
   "execution_count": 24,
   "metadata": {},
   "outputs": [],
   "source": [
    "data_X_train = data_train[0:369]"
   ]
  },
  {
   "cell_type": "code",
   "execution_count": 25,
   "metadata": {},
   "outputs": [],
   "source": [
    "data_X_CV = data_train[370:569]"
   ]
  },
  {
   "cell_type": "code",
   "execution_count": 26,
   "metadata": {},
   "outputs": [],
   "source": [
    "data_Y = data['diag_cat']"
   ]
  },
  {
   "cell_type": "code",
   "execution_count": 27,
   "metadata": {},
   "outputs": [],
   "source": [
    "data_Y_train = data_Y[0:369] "
   ]
  },
  {
   "cell_type": "code",
   "execution_count": 28,
   "metadata": {},
   "outputs": [],
   "source": [
    "data_Y_CV = data_Y[370:569]"
   ]
  },
  {
   "cell_type": "code",
   "execution_count": 29,
   "metadata": {},
   "outputs": [],
   "source": [
    "from sklearn.preprocessing import scale"
   ]
  },
  {
   "cell_type": "code",
   "execution_count": 30,
   "metadata": {},
   "outputs": [],
   "source": [
    "data_X_train_scale = scale(data_X_train)\n",
    "data_X_CV_scale = scale(data_X_CV)"
   ]
  },
  {
   "cell_type": "code",
   "execution_count": 36,
   "metadata": {},
   "outputs": [],
   "source": [
    "from sklearn.preprocessing import MinMaxScaler\n",
    "min_max = MinMaxScaler()\n",
    "data_X_train_normal = min_max.fit_transform(data_X_train)\n",
    "data_X_CV_normal = min_max.fit_transform(data_X_CV)"
   ]
  },
  {
   "cell_type": "code",
   "execution_count": 37,
   "metadata": {},
   "outputs": [],
   "source": [
    "data_X_train_both = scale(data_X_train_normal)"
   ]
  },
  {
   "cell_type": "code",
   "execution_count": 38,
   "metadata": {},
   "outputs": [],
   "source": [
    "data_CV_both = scale(data_X_CV_normal)"
   ]
  },
  {
   "cell_type": "code",
   "execution_count": 39,
   "metadata": {},
   "outputs": [],
   "source": [
    "from sklearn.linear_model import LogisticRegression"
   ]
  },
  {
   "cell_type": "code",
   "execution_count": 40,
   "metadata": {},
   "outputs": [],
   "source": [
    "logreg = LogisticRegression()"
   ]
  },
  {
   "cell_type": "code",
   "execution_count": 42,
   "metadata": {},
   "outputs": [
    {
     "data": {
      "text/plain": [
       "LogisticRegression(C=1.0, class_weight=None, dual=False, fit_intercept=True,\n",
       "          intercept_scaling=1, max_iter=100, multi_class='ovr', n_jobs=1,\n",
       "          penalty='l2', random_state=None, solver='liblinear', tol=0.0001,\n",
       "          verbose=0, warm_start=False)"
      ]
     },
     "execution_count": 42,
     "metadata": {},
     "output_type": "execute_result"
    }
   ],
   "source": [
    "logreg.fit(data_X_train_normal,data_Y_train)"
   ]
  },
  {
   "cell_type": "code",
   "execution_count": 43,
   "metadata": {},
   "outputs": [
    {
     "data": {
      "text/plain": [
       "1.0"
      ]
     },
     "execution_count": 43,
     "metadata": {},
     "output_type": "execute_result"
    }
   ],
   "source": [
    "logreg.score(data_X_train_normal,data_Y_train)"
   ]
  },
  {
   "cell_type": "code",
   "execution_count": 44,
   "metadata": {},
   "outputs": [
    {
     "data": {
      "text/plain": [
       "1.0"
      ]
     },
     "execution_count": 44,
     "metadata": {},
     "output_type": "execute_result"
    }
   ],
   "source": [
    "logreg.score(data_X_CV_normal,data_Y_CV)"
   ]
  },
  {
   "cell_type": "code",
   "execution_count": 45,
   "metadata": {},
   "outputs": [],
   "source": [
    "from sklearn.svm import SVC"
   ]
  },
  {
   "cell_type": "code",
   "execution_count": 46,
   "metadata": {},
   "outputs": [],
   "source": [
    "SVM = SVC()"
   ]
  },
  {
   "cell_type": "code",
   "execution_count": 47,
   "metadata": {},
   "outputs": [
    {
     "data": {
      "text/plain": [
       "SVC(C=1.0, cache_size=200, class_weight=None, coef0=0.0,\n",
       "  decision_function_shape='ovr', degree=3, gamma='auto', kernel='rbf',\n",
       "  max_iter=-1, probability=False, random_state=None, shrinking=True,\n",
       "  tol=0.001, verbose=False)"
      ]
     },
     "execution_count": 47,
     "metadata": {},
     "output_type": "execute_result"
    }
   ],
   "source": [
    "SVM.fit(data_X_train_normal,data_Y_train)"
   ]
  },
  {
   "cell_type": "code",
   "execution_count": 48,
   "metadata": {},
   "outputs": [
    {
     "data": {
      "text/plain": [
       "1.0"
      ]
     },
     "execution_count": 48,
     "metadata": {},
     "output_type": "execute_result"
    }
   ],
   "source": [
    "SVM.score(data_X_train_normal,data_Y_train)"
   ]
  },
  {
   "cell_type": "code",
   "execution_count": 50,
   "metadata": {},
   "outputs": [
    {
     "data": {
      "text/plain": [
       "1.0"
      ]
     },
     "execution_count": 50,
     "metadata": {},
     "output_type": "execute_result"
    }
   ],
   "source": [
    "SVM.score(data_X_CV_normal,data_Y_CV)"
   ]
  },
  {
   "cell_type": "code",
   "execution_count": 51,
   "metadata": {},
   "outputs": [],
   "source": [
    "from sklearn.neighbors import KNeighborsClassifier"
   ]
  },
  {
   "cell_type": "code",
   "execution_count": 52,
   "metadata": {},
   "outputs": [],
   "source": [
    "model = KNeighborsClassifier()"
   ]
  },
  {
   "cell_type": "code",
   "execution_count": 53,
   "metadata": {},
   "outputs": [
    {
     "data": {
      "text/plain": [
       "KNeighborsClassifier(algorithm='auto', leaf_size=30, metric='minkowski',\n",
       "           metric_params=None, n_jobs=1, n_neighbors=5, p=2,\n",
       "           weights='uniform')"
      ]
     },
     "execution_count": 53,
     "metadata": {},
     "output_type": "execute_result"
    }
   ],
   "source": [
    "model.fit(data_X_train_normal,data_Y_train)"
   ]
  },
  {
   "cell_type": "code",
   "execution_count": 54,
   "metadata": {},
   "outputs": [
    {
     "data": {
      "text/plain": [
       "1.0"
      ]
     },
     "execution_count": 54,
     "metadata": {},
     "output_type": "execute_result"
    }
   ],
   "source": [
    "model.score(data_X_train_normal,data_Y_train)"
   ]
  },
  {
   "cell_type": "code",
   "execution_count": 55,
   "metadata": {},
   "outputs": [
    {
     "data": {
      "text/plain": [
       "1.0"
      ]
     },
     "execution_count": 55,
     "metadata": {},
     "output_type": "execute_result"
    }
   ],
   "source": [
    "model.score(data_X_CV_normal,data_Y_CV)"
   ]
  },
  {
   "cell_type": "code",
   "execution_count": 56,
   "metadata": {},
   "outputs": [],
   "source": [
    "from sklearn.naive_bayes import GaussianNB"
   ]
  },
  {
   "cell_type": "code",
   "execution_count": 57,
   "metadata": {},
   "outputs": [],
   "source": [
    "model2 = GaussianNB()"
   ]
  },
  {
   "cell_type": "code",
   "execution_count": 58,
   "metadata": {},
   "outputs": [
    {
     "data": {
      "text/plain": [
       "GaussianNB(priors=None)"
      ]
     },
     "execution_count": 58,
     "metadata": {},
     "output_type": "execute_result"
    }
   ],
   "source": [
    "model2.fit(data_X_train_normal,data_Y_train)"
   ]
  },
  {
   "cell_type": "code",
   "execution_count": 59,
   "metadata": {},
   "outputs": [
    {
     "data": {
      "text/plain": [
       "1.0"
      ]
     },
     "execution_count": 59,
     "metadata": {},
     "output_type": "execute_result"
    }
   ],
   "source": [
    "model2.score(data_X_train_normal,data_Y_train)"
   ]
  },
  {
   "cell_type": "code",
   "execution_count": 60,
   "metadata": {},
   "outputs": [
    {
     "data": {
      "text/plain": [
       "1.0"
      ]
     },
     "execution_count": 60,
     "metadata": {},
     "output_type": "execute_result"
    }
   ],
   "source": [
    "model2.score(data_X_CV_normal,data_Y_CV)"
   ]
  },
  {
   "cell_type": "code",
   "execution_count": 61,
   "metadata": {},
   "outputs": [],
   "source": [
    "from keras.models import Sequential\n",
    "from keras.layers import Dense"
   ]
  },
  {
   "cell_type": "code",
   "execution_count": 63,
   "metadata": {},
   "outputs": [],
   "source": [
    "np.random.seed(7)"
   ]
  },
  {
   "cell_type": "code",
   "execution_count": 66,
   "metadata": {},
   "outputs": [
    {
     "data": {
      "text/html": [
       "<div>\n",
       "<style scoped>\n",
       "    .dataframe tbody tr th:only-of-type {\n",
       "        vertical-align: middle;\n",
       "    }\n",
       "\n",
       "    .dataframe tbody tr th {\n",
       "        vertical-align: top;\n",
       "    }\n",
       "\n",
       "    .dataframe thead th {\n",
       "        text-align: right;\n",
       "    }\n",
       "</style>\n",
       "<table border=\"1\" class=\"dataframe\">\n",
       "  <thead>\n",
       "    <tr style=\"text-align: right;\">\n",
       "      <th></th>\n",
       "      <th>radius_mean</th>\n",
       "      <th>texture_mean</th>\n",
       "      <th>perimeter_mean</th>\n",
       "      <th>area_mean</th>\n",
       "      <th>smoothness_mean</th>\n",
       "      <th>compactness_mean</th>\n",
       "      <th>concavity_mean</th>\n",
       "      <th>concave points_mean</th>\n",
       "      <th>symmetry_mean</th>\n",
       "      <th>fractal_dimension_mean</th>\n",
       "      <th>...</th>\n",
       "      <th>texture_worst</th>\n",
       "      <th>perimeter_worst</th>\n",
       "      <th>area_worst</th>\n",
       "      <th>smoothness_worst</th>\n",
       "      <th>compactness_worst</th>\n",
       "      <th>concavity_worst</th>\n",
       "      <th>concave points_worst</th>\n",
       "      <th>symmetry_worst</th>\n",
       "      <th>fractal_dimension_worst</th>\n",
       "      <th>diag_cat</th>\n",
       "    </tr>\n",
       "  </thead>\n",
       "  <tbody>\n",
       "    <tr>\n",
       "      <th>0</th>\n",
       "      <td>17.99</td>\n",
       "      <td>10.38</td>\n",
       "      <td>122.80</td>\n",
       "      <td>1001.0</td>\n",
       "      <td>0.11840</td>\n",
       "      <td>0.27760</td>\n",
       "      <td>0.3001</td>\n",
       "      <td>0.14710</td>\n",
       "      <td>0.2419</td>\n",
       "      <td>0.07871</td>\n",
       "      <td>...</td>\n",
       "      <td>17.33</td>\n",
       "      <td>184.60</td>\n",
       "      <td>2019.0</td>\n",
       "      <td>0.1622</td>\n",
       "      <td>0.6656</td>\n",
       "      <td>0.7119</td>\n",
       "      <td>0.2654</td>\n",
       "      <td>0.4601</td>\n",
       "      <td>0.11890</td>\n",
       "      <td>1</td>\n",
       "    </tr>\n",
       "    <tr>\n",
       "      <th>1</th>\n",
       "      <td>20.57</td>\n",
       "      <td>17.77</td>\n",
       "      <td>132.90</td>\n",
       "      <td>1326.0</td>\n",
       "      <td>0.08474</td>\n",
       "      <td>0.07864</td>\n",
       "      <td>0.0869</td>\n",
       "      <td>0.07017</td>\n",
       "      <td>0.1812</td>\n",
       "      <td>0.05667</td>\n",
       "      <td>...</td>\n",
       "      <td>23.41</td>\n",
       "      <td>158.80</td>\n",
       "      <td>1956.0</td>\n",
       "      <td>0.1238</td>\n",
       "      <td>0.1866</td>\n",
       "      <td>0.2416</td>\n",
       "      <td>0.1860</td>\n",
       "      <td>0.2750</td>\n",
       "      <td>0.08902</td>\n",
       "      <td>1</td>\n",
       "    </tr>\n",
       "    <tr>\n",
       "      <th>2</th>\n",
       "      <td>19.69</td>\n",
       "      <td>21.25</td>\n",
       "      <td>130.00</td>\n",
       "      <td>1203.0</td>\n",
       "      <td>0.10960</td>\n",
       "      <td>0.15990</td>\n",
       "      <td>0.1974</td>\n",
       "      <td>0.12790</td>\n",
       "      <td>0.2069</td>\n",
       "      <td>0.05999</td>\n",
       "      <td>...</td>\n",
       "      <td>25.53</td>\n",
       "      <td>152.50</td>\n",
       "      <td>1709.0</td>\n",
       "      <td>0.1444</td>\n",
       "      <td>0.4245</td>\n",
       "      <td>0.4504</td>\n",
       "      <td>0.2430</td>\n",
       "      <td>0.3613</td>\n",
       "      <td>0.08758</td>\n",
       "      <td>1</td>\n",
       "    </tr>\n",
       "    <tr>\n",
       "      <th>3</th>\n",
       "      <td>11.42</td>\n",
       "      <td>20.38</td>\n",
       "      <td>77.58</td>\n",
       "      <td>386.1</td>\n",
       "      <td>0.14250</td>\n",
       "      <td>0.28390</td>\n",
       "      <td>0.2414</td>\n",
       "      <td>0.10520</td>\n",
       "      <td>0.2597</td>\n",
       "      <td>0.09744</td>\n",
       "      <td>...</td>\n",
       "      <td>26.50</td>\n",
       "      <td>98.87</td>\n",
       "      <td>567.7</td>\n",
       "      <td>0.2098</td>\n",
       "      <td>0.8663</td>\n",
       "      <td>0.6869</td>\n",
       "      <td>0.2575</td>\n",
       "      <td>0.6638</td>\n",
       "      <td>0.17300</td>\n",
       "      <td>1</td>\n",
       "    </tr>\n",
       "    <tr>\n",
       "      <th>4</th>\n",
       "      <td>20.29</td>\n",
       "      <td>14.34</td>\n",
       "      <td>135.10</td>\n",
       "      <td>1297.0</td>\n",
       "      <td>0.10030</td>\n",
       "      <td>0.13280</td>\n",
       "      <td>0.1980</td>\n",
       "      <td>0.10430</td>\n",
       "      <td>0.1809</td>\n",
       "      <td>0.05883</td>\n",
       "      <td>...</td>\n",
       "      <td>16.67</td>\n",
       "      <td>152.20</td>\n",
       "      <td>1575.0</td>\n",
       "      <td>0.1374</td>\n",
       "      <td>0.2050</td>\n",
       "      <td>0.4000</td>\n",
       "      <td>0.1625</td>\n",
       "      <td>0.2364</td>\n",
       "      <td>0.07678</td>\n",
       "      <td>1</td>\n",
       "    </tr>\n",
       "  </tbody>\n",
       "</table>\n",
       "<p>5 rows × 31 columns</p>\n",
       "</div>"
      ],
      "text/plain": [
       "   radius_mean  texture_mean  perimeter_mean  area_mean  smoothness_mean  \\\n",
       "0        17.99         10.38          122.80     1001.0          0.11840   \n",
       "1        20.57         17.77          132.90     1326.0          0.08474   \n",
       "2        19.69         21.25          130.00     1203.0          0.10960   \n",
       "3        11.42         20.38           77.58      386.1          0.14250   \n",
       "4        20.29         14.34          135.10     1297.0          0.10030   \n",
       "\n",
       "   compactness_mean  concavity_mean  concave points_mean  symmetry_mean  \\\n",
       "0           0.27760          0.3001              0.14710         0.2419   \n",
       "1           0.07864          0.0869              0.07017         0.1812   \n",
       "2           0.15990          0.1974              0.12790         0.2069   \n",
       "3           0.28390          0.2414              0.10520         0.2597   \n",
       "4           0.13280          0.1980              0.10430         0.1809   \n",
       "\n",
       "   fractal_dimension_mean    ...     texture_worst  perimeter_worst  \\\n",
       "0                 0.07871    ...             17.33           184.60   \n",
       "1                 0.05667    ...             23.41           158.80   \n",
       "2                 0.05999    ...             25.53           152.50   \n",
       "3                 0.09744    ...             26.50            98.87   \n",
       "4                 0.05883    ...             16.67           152.20   \n",
       "\n",
       "   area_worst  smoothness_worst  compactness_worst  concavity_worst  \\\n",
       "0      2019.0            0.1622             0.6656           0.7119   \n",
       "1      1956.0            0.1238             0.1866           0.2416   \n",
       "2      1709.0            0.1444             0.4245           0.4504   \n",
       "3       567.7            0.2098             0.8663           0.6869   \n",
       "4      1575.0            0.1374             0.2050           0.4000   \n",
       "\n",
       "   concave points_worst  symmetry_worst  fractal_dimension_worst  diag_cat  \n",
       "0                0.2654          0.4601                  0.11890         1  \n",
       "1                0.1860          0.2750                  0.08902         1  \n",
       "2                0.2430          0.3613                  0.08758         1  \n",
       "3                0.2575          0.6638                  0.17300         1  \n",
       "4                0.1625          0.2364                  0.07678         1  \n",
       "\n",
       "[5 rows x 31 columns]"
      ]
     },
     "execution_count": 66,
     "metadata": {},
     "output_type": "execute_result"
    }
   ],
   "source": [
    "data_X_train.head()"
   ]
  },
  {
   "cell_type": "code",
   "execution_count": 67,
   "metadata": {},
   "outputs": [],
   "source": [
    "model = Sequential()\n",
    "model.add(Dense(12, input_dim=31, activation='relu'))\n",
    "model.add(Dense(8, activation='relu'))\n",
    "model.add(Dense(1, activation='sigmoid')) "
   ]
  },
  {
   "cell_type": "code",
   "execution_count": 68,
   "metadata": {},
   "outputs": [],
   "source": [
    "model.compile(loss='binary_crossentropy', optimizer='adam', metrics=['accuracy'])"
   ]
  },
  {
   "cell_type": "code",
   "execution_count": 76,
   "metadata": {},
   "outputs": [
    {
     "name": "stdout",
     "output_type": "stream",
     "text": [
      "Epoch 1/150\n",
      "369/369 [==============================] - 0s 185us/step - loss: 0.7604 - acc: 0.7940\n",
      "Epoch 2/150\n",
      "369/369 [==============================] - 0s 207us/step - loss: 0.0309 - acc: 0.9919\n",
      "Epoch 3/150\n",
      "369/369 [==============================] - 0s 204us/step - loss: 0.0140 - acc: 1.0000\n",
      "Epoch 4/150\n",
      "369/369 [==============================] - 0s 194us/step - loss: 0.0091 - acc: 1.0000\n",
      "Epoch 5/150\n",
      "369/369 [==============================] - 0s 186us/step - loss: 0.0067 - acc: 1.0000\n",
      "Epoch 6/150\n",
      "369/369 [==============================] - 0s 205us/step - loss: 0.0053 - acc: 1.0000\n",
      "Epoch 7/150\n",
      "369/369 [==============================] - 0s 189us/step - loss: 0.0043 - acc: 1.0000\n",
      "Epoch 8/150\n",
      "369/369 [==============================] - 0s 205us/step - loss: 0.0036 - acc: 1.0000\n",
      "Epoch 9/150\n",
      "369/369 [==============================] - 0s 208us/step - loss: 0.0031 - acc: 1.0000\n",
      "Epoch 10/150\n",
      "369/369 [==============================] - 0s 251us/step - loss: 0.0027 - acc: 1.0000\n",
      "Epoch 11/150\n",
      "369/369 [==============================] - 0s 227us/step - loss: 0.0024 - acc: 1.0000 0s - loss: 0.0025 - acc: 1.000\n",
      "Epoch 12/150\n",
      "369/369 [==============================] - 0s 276us/step - loss: 0.0021 - acc: 1.0000\n",
      "Epoch 13/150\n",
      "369/369 [==============================] - 0s 234us/step - loss: 0.0019 - acc: 1.0000\n",
      "Epoch 14/150\n",
      "369/369 [==============================] - 0s 240us/step - loss: 0.0018 - acc: 1.0000\n",
      "Epoch 15/150\n",
      "369/369 [==============================] - 0s 279us/step - loss: 0.0016 - acc: 1.0000\n",
      "Epoch 16/150\n",
      "369/369 [==============================] - 0s 238us/step - loss: 0.0015 - acc: 1.0000\n",
      "Epoch 17/150\n",
      "369/369 [==============================] - 0s 217us/step - loss: 0.0014 - acc: 1.0000\n",
      "Epoch 18/150\n",
      "369/369 [==============================] - 0s 211us/step - loss: 0.0013 - acc: 1.0000\n",
      "Epoch 19/150\n",
      "369/369 [==============================] - 0s 227us/step - loss: 0.0012 - acc: 1.0000\n",
      "Epoch 20/150\n",
      "369/369 [==============================] - 0s 226us/step - loss: 0.0011 - acc: 1.0000\n",
      "Epoch 21/150\n",
      "369/369 [==============================] - 0s 245us/step - loss: 0.0010 - acc: 1.0000\n",
      "Epoch 22/150\n",
      "369/369 [==============================] - 0s 243us/step - loss: 9.5939e-04 - acc: 1.0000\n",
      "Epoch 23/150\n",
      "369/369 [==============================] - 0s 213us/step - loss: 9.0236e-04 - acc: 1.0000\n",
      "Epoch 24/150\n",
      "369/369 [==============================] - 0s 243us/step - loss: 8.5006e-04 - acc: 1.0000\n",
      "Epoch 25/150\n",
      "369/369 [==============================] - 0s 232us/step - loss: 8.0189e-04 - acc: 1.0000\n",
      "Epoch 26/150\n",
      "369/369 [==============================] - 0s 238us/step - loss: 7.5873e-04 - acc: 1.0000\n",
      "Epoch 27/150\n",
      "369/369 [==============================] - 0s 189us/step - loss: 7.1823e-04 - acc: 1.0000\n",
      "Epoch 28/150\n",
      "369/369 [==============================] - ETA: 0s - loss: 6.1959e-04 - acc: 1.000 - 0s 208us/step - loss: 6.8145e-04 - acc: 1.0000\n",
      "Epoch 29/150\n",
      "369/369 [==============================] - 0s 202us/step - loss: 6.4747e-04 - acc: 1.0000\n",
      "Epoch 30/150\n",
      "369/369 [==============================] - 0s 211us/step - loss: 6.1458e-04 - acc: 1.0000\n",
      "Epoch 31/150\n",
      "369/369 [==============================] - 0s 208us/step - loss: 5.8544e-04 - acc: 1.0000\n",
      "Epoch 32/150\n",
      "369/369 [==============================] - 0s 215us/step - loss: 5.5787e-04 - acc: 1.0000\n",
      "Epoch 33/150\n",
      "369/369 [==============================] - 0s 220us/step - loss: 5.3263e-04 - acc: 1.0000\n",
      "Epoch 34/150\n",
      "369/369 [==============================] - 0s 209us/step - loss: 5.0843e-04 - acc: 1.0000\n",
      "Epoch 35/150\n",
      "369/369 [==============================] - 0s 209us/step - loss: 4.8713e-04 - acc: 1.0000\n",
      "Epoch 36/150\n",
      "369/369 [==============================] - 0s 246us/step - loss: 4.6569e-04 - acc: 1.0000\n",
      "Epoch 37/150\n",
      "369/369 [==============================] - 0s 239us/step - loss: 4.4583e-04 - acc: 1.0000\n",
      "Epoch 38/150\n",
      "369/369 [==============================] - 0s 215us/step - loss: 4.2767e-04 - acc: 1.0000\n",
      "Epoch 39/150\n",
      "369/369 [==============================] - 0s 208us/step - loss: 4.0995e-04 - acc: 1.0000\n",
      "Epoch 40/150\n",
      "369/369 [==============================] - 0s 193us/step - loss: 3.9384e-04 - acc: 1.0000\n",
      "Epoch 41/150\n",
      "369/369 [==============================] - 0s 190us/step - loss: 3.7782e-04 - acc: 1.0000\n",
      "Epoch 42/150\n",
      "369/369 [==============================] - 0s 215us/step - loss: 3.6349e-04 - acc: 1.0000\n",
      "Epoch 43/150\n",
      "369/369 [==============================] - 0s 204us/step - loss: 3.4943e-04 - acc: 1.0000\n",
      "Epoch 44/150\n",
      "369/369 [==============================] - 0s 186us/step - loss: 3.3625e-04 - acc: 1.0000\n",
      "Epoch 45/150\n",
      "369/369 [==============================] - 0s 211us/step - loss: 3.2389e-04 - acc: 1.0000\n",
      "Epoch 46/150\n",
      "369/369 [==============================] - 0s 201us/step - loss: 3.1233e-04 - acc: 1.0000\n",
      "Epoch 47/150\n",
      "369/369 [==============================] - 0s 183us/step - loss: 3.0070e-04 - acc: 1.0000\n",
      "Epoch 48/150\n",
      "369/369 [==============================] - 0s 202us/step - loss: 2.9059e-04 - acc: 1.0000\n",
      "Epoch 49/150\n",
      "369/369 [==============================] - 0s 207us/step - loss: 2.7987e-04 - acc: 1.0000\n",
      "Epoch 50/150\n",
      "369/369 [==============================] - 0s 190us/step - loss: 2.7016e-04 - acc: 1.0000\n",
      "Epoch 51/150\n",
      "369/369 [==============================] - 0s 200us/step - loss: 2.6081e-04 - acc: 1.0000\n",
      "Epoch 52/150\n",
      "369/369 [==============================] - 0s 201us/step - loss: 2.5191e-04 - acc: 1.0000\n",
      "Epoch 53/150\n",
      "369/369 [==============================] - 0s 183us/step - loss: 2.4354e-04 - acc: 1.0000\n",
      "Epoch 54/150\n",
      "369/369 [==============================] - 0s 219us/step - loss: 2.3529e-04 - acc: 1.0000\n",
      "Epoch 55/150\n",
      "369/369 [==============================] - 0s 186us/step - loss: 2.2766e-04 - acc: 1.0000\n",
      "Epoch 56/150\n",
      "369/369 [==============================] - 0s 182us/step - loss: 2.2020e-04 - acc: 1.0000\n",
      "Epoch 57/150\n",
      "369/369 [==============================] - 0s 190us/step - loss: 2.1315e-04 - acc: 1.0000\n",
      "Epoch 58/150\n",
      "369/369 [==============================] - 0s 175us/step - loss: 2.0635e-04 - acc: 1.0000\n",
      "Epoch 59/150\n",
      "369/369 [==============================] - 0s 208us/step - loss: 1.9968e-04 - acc: 1.0000\n",
      "Epoch 60/150\n",
      "369/369 [==============================] - 0s 183us/step - loss: 1.9352e-04 - acc: 1.0000\n",
      "Epoch 61/150\n",
      "369/369 [==============================] - 0s 211us/step - loss: 1.8754e-04 - acc: 1.0000\n",
      "Epoch 62/150\n",
      "369/369 [==============================] - 0s 217us/step - loss: 1.8167e-04 - acc: 1.0000\n",
      "Epoch 63/150\n",
      "369/369 [==============================] - 0s 211us/step - loss: 1.7616e-04 - acc: 1.0000\n",
      "Epoch 64/150\n",
      "369/369 [==============================] - 0s 219us/step - loss: 1.7091e-04 - acc: 1.0000\n",
      "Epoch 65/150\n",
      "369/369 [==============================] - 0s 205us/step - loss: 1.6560e-04 - acc: 1.0000\n",
      "Epoch 66/150\n",
      "369/369 [==============================] - 0s 168us/step - loss: 1.6073e-04 - acc: 1.0000\n",
      "Epoch 67/150\n",
      "369/369 [==============================] - 0s 212us/step - loss: 1.5597e-04 - acc: 1.0000\n",
      "Epoch 68/150\n",
      "369/369 [==============================] - 0s 226us/step - loss: 1.5140e-04 - acc: 1.0000\n",
      "Epoch 69/150\n",
      "369/369 [==============================] - 0s 182us/step - loss: 1.4703e-04 - acc: 1.0000\n",
      "Epoch 70/150\n",
      "369/369 [==============================] - 0s 182us/step - loss: 1.4285e-04 - acc: 1.0000\n",
      "Epoch 71/150\n",
      "369/369 [==============================] - 0s 209us/step - loss: 1.3860e-04 - acc: 1.0000\n",
      "Epoch 72/150\n",
      "369/369 [==============================] - 0s 215us/step - loss: 1.3463e-04 - acc: 1.0000\n",
      "Epoch 73/150\n",
      "369/369 [==============================] - 0s 208us/step - loss: 1.3087e-04 - acc: 1.0000\n",
      "Epoch 74/150\n",
      "369/369 [==============================] - 0s 183us/step - loss: 1.2711e-04 - acc: 1.0000\n",
      "Epoch 75/150\n",
      "369/369 [==============================] - 0s 232us/step - loss: 1.2357e-04 - acc: 1.0000\n",
      "Epoch 76/150\n",
      "369/369 [==============================] - 0s 196us/step - loss: 1.2011e-04 - acc: 1.0000\n",
      "Epoch 77/150\n",
      "369/369 [==============================] - 0s 174us/step - loss: 1.1683e-04 - acc: 1.0000\n",
      "Epoch 78/150\n",
      "369/369 [==============================] - 0s 220us/step - loss: 1.1356e-04 - acc: 1.0000\n",
      "Epoch 79/150\n",
      "369/369 [==============================] - 0s 217us/step - loss: 1.1051e-04 - acc: 1.0000\n",
      "Epoch 80/150\n"
     ]
    },
    {
     "name": "stdout",
     "output_type": "stream",
     "text": [
      "369/369 [==============================] - 0s 221us/step - loss: 1.0748e-04 - acc: 1.0000\n",
      "Epoch 81/150\n",
      "369/369 [==============================] - 0s 251us/step - loss: 1.0453e-04 - acc: 1.0000\n",
      "Epoch 82/150\n",
      "369/369 [==============================] - 0s 235us/step - loss: 1.0177e-04 - acc: 1.0000\n",
      "Epoch 83/150\n",
      "369/369 [==============================] - 0s 255us/step - loss: 9.9039e-05 - acc: 1.0000\n",
      "Epoch 84/150\n",
      "369/369 [==============================] - 0s 270us/step - loss: 9.6370e-05 - acc: 1.0000\n",
      "Epoch 85/150\n",
      "369/369 [==============================] - 0s 371us/step - loss: 9.3854e-05 - acc: 1.0000\n",
      "Epoch 86/150\n",
      "369/369 [==============================] - 0s 319us/step - loss: 9.1365e-05 - acc: 1.0000\n",
      "Epoch 87/150\n",
      "369/369 [==============================] - 0s 232us/step - loss: 8.9009e-05 - acc: 1.0000\n",
      "Epoch 88/150\n",
      "369/369 [==============================] - 0s 268us/step - loss: 8.6548e-05 - acc: 1.0000\n",
      "Epoch 89/150\n",
      "369/369 [==============================] - 0s 269us/step - loss: 8.4370e-05 - acc: 1.0000\n",
      "Epoch 90/150\n",
      "369/369 [==============================] - 0s 208us/step - loss: 8.2138e-05 - acc: 1.0000\n",
      "Epoch 91/150\n",
      "369/369 [==============================] - 0s 246us/step - loss: 8.0055e-05 - acc: 1.0000\n",
      "Epoch 92/150\n",
      "369/369 [==============================] - 0s 211us/step - loss: 7.7975e-05 - acc: 1.0000\n",
      "Epoch 93/150\n",
      "369/369 [==============================] - 0s 175us/step - loss: 7.5993e-05 - acc: 1.0000\n",
      "Epoch 94/150\n",
      "369/369 [==============================] - 0s 208us/step - loss: 7.4074e-05 - acc: 1.0000\n",
      "Epoch 95/150\n",
      "369/369 [==============================] - 0s 198us/step - loss: 7.2142e-05 - acc: 1.0000\n",
      "Epoch 96/150\n",
      "369/369 [==============================] - 0s 181us/step - loss: 7.0372e-05 - acc: 1.0000\n",
      "Epoch 97/150\n",
      "369/369 [==============================] - 0s 187us/step - loss: 6.8547e-05 - acc: 1.0000\n",
      "Epoch 98/150\n",
      "369/369 [==============================] - 0s 236us/step - loss: 6.6848e-05 - acc: 1.0000\n",
      "Epoch 99/150\n",
      "369/369 [==============================] - 0s 205us/step - loss: 6.5176e-05 - acc: 1.0000\n",
      "Epoch 100/150\n",
      "369/369 [==============================] - 0s 235us/step - loss: 6.3552e-05 - acc: 1.0000\n",
      "Epoch 101/150\n",
      "369/369 [==============================] - 0s 281us/step - loss: 6.1966e-05 - acc: 1.0000\n",
      "Epoch 102/150\n",
      "369/369 [==============================] - 0s 231us/step - loss: 6.0433e-05 - acc: 1.0000\n",
      "Epoch 103/150\n",
      "369/369 [==============================] - 0s 196us/step - loss: 5.8961e-05 - acc: 1.0000\n",
      "Epoch 104/150\n",
      "369/369 [==============================] - 0s 236us/step - loss: 5.7512e-05 - acc: 1.0000\n",
      "Epoch 105/150\n",
      "369/369 [==============================] - 0s 235us/step - loss: 5.6118e-05 - acc: 1.0000\n",
      "Epoch 106/150\n",
      "369/369 [==============================] - 0s 230us/step - loss: 5.4731e-05 - acc: 1.0000\n",
      "Epoch 107/150\n",
      "369/369 [==============================] - 0s 250us/step - loss: 5.3404e-05 - acc: 1.0000\n",
      "Epoch 108/150\n",
      "369/369 [==============================] - 0s 181us/step - loss: 5.2111e-05 - acc: 1.0000\n",
      "Epoch 109/150\n",
      "369/369 [==============================] - 0s 179us/step - loss: 5.0863e-05 - acc: 1.0000\n",
      "Epoch 110/150\n",
      "369/369 [==============================] - 0s 201us/step - loss: 4.9625e-05 - acc: 1.0000\n",
      "Epoch 111/150\n",
      "369/369 [==============================] - 0s 198us/step - loss: 4.8434e-05 - acc: 1.0000\n",
      "Epoch 112/150\n",
      "369/369 [==============================] - 0s 190us/step - loss: 4.7271e-05 - acc: 1.0000\n",
      "Epoch 113/150\n",
      "369/369 [==============================] - 0s 205us/step - loss: 4.6127e-05 - acc: 1.0000\n",
      "Epoch 114/150\n",
      "369/369 [==============================] - 0s 174us/step - loss: 4.5044e-05 - acc: 1.0000\n",
      "Epoch 115/150\n",
      "369/369 [==============================] - 0s 190us/step - loss: 4.3980e-05 - acc: 1.0000\n",
      "Epoch 116/150\n",
      "369/369 [==============================] - 0s 174us/step - loss: 4.2931e-05 - acc: 1.0000\n",
      "Epoch 117/150\n",
      "369/369 [==============================] - 0s 205us/step - loss: 4.1905e-05 - acc: 1.0000\n",
      "Epoch 118/150\n",
      "369/369 [==============================] - 0s 183us/step - loss: 4.0928e-05 - acc: 1.0000\n",
      "Epoch 119/150\n",
      "369/369 [==============================] - 0s 194us/step - loss: 3.9980e-05 - acc: 1.0000\n",
      "Epoch 120/150\n",
      "369/369 [==============================] - 0s 204us/step - loss: 3.9023e-05 - acc: 1.0000\n",
      "Epoch 121/150\n",
      "369/369 [==============================] - 0s 200us/step - loss: 3.8115e-05 - acc: 1.0000\n",
      "Epoch 122/150\n",
      "369/369 [==============================] - 0s 183us/step - loss: 3.7226e-05 - acc: 1.0000\n",
      "Epoch 123/150\n",
      "369/369 [==============================] - 0s 185us/step - loss: 3.6359e-05 - acc: 1.0000\n",
      "Epoch 124/150\n",
      "369/369 [==============================] - 0s 211us/step - loss: 3.5498e-05 - acc: 1.0000\n",
      "Epoch 125/150\n",
      "369/369 [==============================] - 0s 182us/step - loss: 3.4689e-05 - acc: 1.0000\n",
      "Epoch 126/150\n",
      "369/369 [==============================] - 0s 179us/step - loss: 3.3877e-05 - acc: 1.0000\n",
      "Epoch 127/150\n",
      "369/369 [==============================] - 0s 186us/step - loss: 3.3108e-05 - acc: 1.0000\n",
      "Epoch 128/150\n",
      "369/369 [==============================] - 0s 192us/step - loss: 3.2334e-05 - acc: 1.0000\n",
      "Epoch 129/150\n",
      "369/369 [==============================] - 0s 194us/step - loss: 3.1595e-05 - acc: 1.0000\n",
      "Epoch 130/150\n",
      "369/369 [==============================] - 0s 166us/step - loss: 3.0875e-05 - acc: 1.0000\n",
      "Epoch 131/150\n",
      "369/369 [==============================] - 0s 209us/step - loss: 3.0157e-05 - acc: 1.0000\n",
      "Epoch 132/150\n",
      "369/369 [==============================] - 0s 196us/step - loss: 2.9474e-05 - acc: 1.0000\n",
      "Epoch 133/150\n",
      "369/369 [==============================] - 0s 175us/step - loss: 2.8816e-05 - acc: 1.0000\n",
      "Epoch 134/150\n",
      "369/369 [==============================] - 0s 212us/step - loss: 2.8144e-05 - acc: 1.0000\n",
      "Epoch 135/150\n",
      "369/369 [==============================] - 0s 185us/step - loss: 2.7507e-05 - acc: 1.0000\n",
      "Epoch 136/150\n",
      "369/369 [==============================] - 0s 183us/step - loss: 2.6884e-05 - acc: 1.0000\n",
      "Epoch 137/150\n",
      "369/369 [==============================] - 0s 198us/step - loss: 2.6286e-05 - acc: 1.0000\n",
      "Epoch 138/150\n",
      "369/369 [==============================] - 0s 177us/step - loss: 2.5681e-05 - acc: 1.0000\n",
      "Epoch 139/150\n",
      "369/369 [==============================] - 0s 181us/step - loss: 2.5117e-05 - acc: 1.0000\n",
      "Epoch 140/150\n",
      "369/369 [==============================] - 0s 185us/step - loss: 2.4535e-05 - acc: 1.0000\n",
      "Epoch 141/150\n",
      "369/369 [==============================] - 0s 204us/step - loss: 2.3989e-05 - acc: 1.0000\n",
      "Epoch 142/150\n",
      "369/369 [==============================] - 0s 201us/step - loss: 2.3460e-05 - acc: 1.0000\n",
      "Epoch 143/150\n",
      "369/369 [==============================] - 0s 194us/step - loss: 2.2920e-05 - acc: 1.0000\n",
      "Epoch 144/150\n",
      "369/369 [==============================] - 0s 205us/step - loss: 2.2413e-05 - acc: 1.0000\n",
      "Epoch 145/150\n",
      "369/369 [==============================] - 0s 187us/step - loss: 2.1917e-05 - acc: 1.0000\n",
      "Epoch 146/150\n",
      "369/369 [==============================] - 0s 198us/step - loss: 2.1424e-05 - acc: 1.0000\n",
      "Epoch 147/150\n",
      "369/369 [==============================] - 0s 204us/step - loss: 2.0948e-05 - acc: 1.0000\n",
      "Epoch 148/150\n",
      "369/369 [==============================] - 0s 178us/step - loss: 2.0484e-05 - acc: 1.0000\n",
      "Epoch 149/150\n",
      "369/369 [==============================] - 0s 213us/step - loss: 2.0024e-05 - acc: 1.0000\n",
      "Epoch 150/150\n",
      "369/369 [==============================] - 0s 194us/step - loss: 1.9588e-05 - acc: 1.0000\n"
     ]
    },
    {
     "data": {
      "text/plain": [
       "<keras.callbacks.History at 0x16fae5c7c18>"
      ]
     },
     "execution_count": 76,
     "metadata": {},
     "output_type": "execute_result"
    }
   ],
   "source": [
    "model.fit(data_X_train_normal, data_Y_train, epochs=150, batch_size=10)"
   ]
  },
  {
   "cell_type": "code",
   "execution_count": 77,
   "metadata": {},
   "outputs": [
    {
     "name": "stdout",
     "output_type": "stream",
     "text": [
      "369/369 [==============================] - 0s 53us/step\n",
      "\n",
      "acc: 100.00%\n"
     ]
    }
   ],
   "source": [
    "scores = model.evaluate(data_X_train_normal, data_Y_train)\n",
    "print(\"\\n%s: %.2f%%\" % (model.metrics_names[1], scores[1]*100))"
   ]
  },
  {
   "cell_type": "code",
   "execution_count": 78,
   "metadata": {},
   "outputs": [
    {
     "name": "stdout",
     "output_type": "stream",
     "text": [
      "199/199 [==============================] - 0s 55us/step\n",
      "\n",
      "acc: 100.00%\n"
     ]
    }
   ],
   "source": [
    "score2=model.evaluate(data_X_CV_normal,data_Y_CV)\n",
    "print(\"\\n%s: %.2f%%\" % (model.metrics_names[1], score2[1]*100))"
   ]
  }
 ],
 "metadata": {
  "kernelspec": {
   "display_name": "Python 3",
   "language": "python",
   "name": "python3"
  },
  "language_info": {
   "codemirror_mode": {
    "name": "ipython",
    "version": 3
   },
   "file_extension": ".py",
   "mimetype": "text/x-python",
   "name": "python",
   "nbconvert_exporter": "python",
   "pygments_lexer": "ipython3",
   "version": "3.5.5"
  }
 },
 "nbformat": 4,
 "nbformat_minor": 2
}
